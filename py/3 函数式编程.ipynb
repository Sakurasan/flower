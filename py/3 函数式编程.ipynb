{
 "nbformat": 4,
 "nbformat_minor": 2,
 "metadata": {
  "language_info": {
   "name": "python",
   "codemirror_mode": {
    "name": "ipython",
    "version": 3
   }
  },
  "orig_nbformat": 2,
  "file_extension": ".py",
  "mimetype": "text/x-python",
  "name": "python",
  "npconvert_exporter": "python",
  "pygments_lexer": "ipython3",
  "version": 3
 },
 "cells": [
  {
   "cell_type": "markdown",
   "execution_count": null,
   "metadata": {},
   "outputs": [],
   "source": [
    "# 函数式编程"
   ]
  },
  {
   "cell_type": "markdown",
   "execution_count": null,
   "metadata": {},
   "outputs": [],
   "source": [
    "### 高阶函数\n",
    "**高阶函数的抽象能力是非常强大的，使得核心代码可以保持得非常简洁。**\n",
    "\n",
    "    map/reduce\n",
    "    filter\n",
    "    sorted\n",
    "    "
   ]
  },
  {
   "cell_type": "markdown",
   "execution_count": null,
   "metadata": {},
   "outputs": [],
   "source": [
    "Python内建了map()和reduce()函数。\n",
    "map()函数接收两个参数，一个是函数，一个是Iterable，map将传入的函数依次作用到序列的每个元素，并把结果作为新的Iterator返回。"
   ]
  },
  {
   "cell_type": "code",
   "execution_count": 5,
   "metadata": {},
   "outputs": [],
   "source": [
    "def f(x):\n",
    "    return x*x\n",
    "m = map(f,[1,2,3,4,5])\n",
    "print(r,type(m))\n",
    "print(list(m))"
   ]
  },
  {
   "cell_type": "markdown",
   "execution_count": 4,
   "metadata": {},
   "outputs": [],
   "source": [
    "再看reduce的用法。reduce把一个函数作用在一个序列[x1, x2, x3, ...]上，这个函数必须接收两个参数，reduce把结果继续和序列的下一个元素做累积计算"
   ]
  },
  {
   "cell_type": "code",
   "execution_count": 46,
   "metadata": {},
   "outputs": [],
   "source": [
    "from functools import reduce\n",
    "def f2(a,b):\n",
    "    return a+b\n",
    "r = reduce(f2,[1,2,3,4,5])\n",
    "print(r)\n"
   ]
  },
  {
   "cell_type": "code",
   "execution_count": 47,
   "metadata": {},
   "outputs": [],
   "source": [
    "from functools import reduce\n",
    "\n",
    "DIGITS = {'0': 0, '1': 1, '2': 2, '3': 3, '4': 4, '5': 5, '6': 6, '7': 7, '8': 8, '9': 9}\n",
    "\n",
    "def str2int(s):\n",
    "    def fn(x, y):\n",
    "        return x * 10 + y\n",
    "    def char2num(s):\n",
    "        return DIGITS[s]\n",
    "    return reduce(fn, map(char2num, s))\n",
    "str2int('123')"
   ]
  },
  {
   "cell_type": "code",
   "execution_count": 41,
   "metadata": {},
   "outputs": [],
   "source": [
    "from functools import reduce\n",
    "\n",
    "DIGITS = {'0': 0, '1': 1, '2': 2, '3': 3, '4': 4, '5': 5, '6': 6, '7': 7, '8': 8, '9': 9}\n",
    "\n",
    "def char2num(s):\n",
    "    return DIGITS[s]\n",
    "\n",
    "def str2int(s):\n",
    "    return reduce(lambda x, y: x * 10 + y, map(char2num, s))\n",
    "str2int('456')\n"
   ]
  },
  {
   "cell_type": "markdown",
   "execution_count": null,
   "metadata": {},
   "outputs": [],
   "source": [
    "### filter()\n",
    "Python内建的filter()函数用于过滤序列。\n"
   ]
  },
  {
   "cell_type": "code",
   "execution_count": 42,
   "metadata": {},
   "outputs": [],
   "source": [
    "def f3(x):\n",
    "    if x% 2 == 0:\n",
    "        return True\n",
    "    else:\n",
    "        return False\n",
    "f = filter(f3,[1,2,3,4,5,6,7,8,9,10])\n",
    "list(f)"
   ]
  },
  {
   "cell_type": "code",
   "execution_count": 49,
   "metadata": {},
   "outputs": [],
   "source": [
    "print('求素数')\n",
    "\n"
   ]
  },
  {
   "cell_type": "markdown",
   "execution_count": 29,
   "metadata": {},
   "outputs": [],
   "source": [
    "### 排序算法 sorted()\n",
    "sorted()函数也是一个高阶函数，它还可以接收一个key函数来实现自定义的排序\n",
    "\n",
    "key指定的函数将作用于list的每一个元素上，并根据key函数返回的结果进行排序。"
   ]
  },
  {
   "cell_type": "code",
   "execution_count": 50,
   "metadata": {},
   "outputs": [],
   "source": [
    "print(sorted([36, 5, -12, 9, -21]))\n",
    "print(sorted([36, 5, -12, 9, -21], key=abs))"
   ]
  },
  {
   "cell_type": "code",
   "execution_count": 51,
   "metadata": {},
   "outputs": [],
   "source": [
    "print(sorted(['bob', 'about', 'Zoo', 'Credit']))\n",
    "\n",
    "print(sorted(['bob', 'about', 'Zoo', 'Credit'], key=str.lower))"
   ]
  },
  {
   "cell_type": "code",
   "execution_count": 45,
   "metadata": {},
   "outputs": [],
   "source": [
    "print(sorted([1,9,7,5,2,3],reverse=True)) # reverse=True 翻转"
   ]
  },
  {
   "cell_type": "markdown",
   "execution_count": null,
   "metadata": {},
   "outputs": [],
   "source": [
    "## 返回函数\n",
    "函数作为返回值\n",
    "\n",
    "思考:go中函数作为一等公民，函数也可以作为参数使用。\n",
    "\n",
    "Python的返回函数是函数里面 怀 了一个函数"
   ]
  },
  {
   "cell_type": "code",
   "execution_count": 53,
   "metadata": {},
   "outputs": [],
   "source": [
    "def lazy_add(*args):\n",
    "    def add():\n",
    "        vul = 0\n",
    "        for n in args:\n",
    "            vul+=n\n",
    "        return vul\n",
    "    return add\n",
    "\n",
    "a = lazy_add(1,2)\n",
    "print(a,type(a))\n",
    "print(a(),type(a()))\n",
    "    "
   ]
  },
  {
   "cell_type": "markdown",
   "execution_count": null,
   "metadata": {},
   "outputs": [],
   "source": [
    "内部函数 add() 引用了外部函数的 外部参数args 和 局部变量vul,\n",
    "当lazy_add()返回函数add()时，相关参数和变量都保存在 返回函数中.这种操作称为 闭包（Closure）\n",
    "\n",
    "> 闭包:是携带函数状态的函数\n",
    "\n",
    "返回闭包时牢记一点：返回函数不要引用任何循环变量，或者后续会发生变化的变量。\n",
    "\n",
    "> nonlocal 申明咪表非局部变量"
   ]
  },
  {
   "cell_type": "code",
   "execution_count": 89,
   "metadata": {},
   "outputs": [
    {
     "name": "stdout",
     "output_type": "stream",
     "text": "9 9 9\n"
    }
   ],
   "source": [
    "def count():\n",
    "    fs =[]\n",
    "    for i in range(1,4):\n",
    "        def mut():\n",
    "            return i*i\n",
    "        fs.append(mut)\n",
    "    return fs\n",
    "\n",
    "f1, f2, f3 = count()\n",
    "print(f1(),f2(),f3())"
   ]
  },
  {
   "cell_type": "code",
   "execution_count": 117,
   "metadata": {},
   "outputs": [
    {
     "ename": "SyntaxError",
     "evalue": "name 'fs' is assigned to before nonlocal declaration (<ipython-input-117-fe3bdc5fadd9>, line 8)",
     "output_type": "error",
     "traceback": [
      "\u001b[1;36m  File \u001b[1;32m\"<ipython-input-117-fe3bdc5fadd9>\"\u001b[1;36m, line \u001b[1;32m8\u001b[0m\n\u001b[1;33m    nonlocal fs\u001b[0m\n\u001b[1;37m    ^\u001b[0m\n\u001b[1;31mSyntaxError\u001b[0m\u001b[1;31m:\u001b[0m name 'fs' is assigned to before nonlocal declaration\n"
     ]
    }
   ],
   "source": [
    "def count():\n",
    "    def f(j):\n",
    "        def g():\n",
    "            return j*j\n",
    "        return g\n",
    "    fs = 0\n",
    "    for i in range(1, 4):\n",
    "        nonlocal fs\n",
    "        fs=f(i) # f(i)立刻被执行，因此i的当前值被传入f()\n",
    "    return fs\n",
    "\n",
    "f1, f2, f3 = count()\n",
    "print(f1(),f2(),f3())"
   ]
  },
  {
   "cell_type": "code",
   "execution_count": 116,
   "metadata": {},
   "outputs": [
    {
     "name": "stdout",
     "output_type": "stream",
     "text": "1 2 3 4 5\n测试通过!\n"
    }
   ],
   "source": [
    "def createCounter():\n",
    "    fs = 0\n",
    "    def counter():\n",
    "        nonlocal fs\n",
    "        fs+=1\n",
    "        return fs\n",
    "    return counter\n",
    "\n"
   ]
  },
  {
   "cell_type": "markdown",
   "execution_count": 118,
   "metadata": {},
   "outputs": [
    {
     "ename": "SyntaxError",
     "evalue": "invalid syntax (<ipython-input-118-3e2bbf8e0336>, line 2)",
     "output_type": "error",
     "traceback": [
      "\u001b[1;36m  File \u001b[1;32m\"<ipython-input-118-3e2bbf8e0336>\"\u001b[1;36m, line \u001b[1;32m2\u001b[0m\n\u001b[1;33m    lambda\u001b[0m\n\u001b[1;37m          ^\u001b[0m\n\u001b[1;31mSyntaxError\u001b[0m\u001b[1;31m:\u001b[0m invalid syntax\n"
     ]
    }
   ],
   "source": [
    "## 匿名函数\n",
    "lambda\n",
    " "
   ]
  },
  {
   "cell_type": "code",
   "execution_count": 126,
   "metadata": {},
   "outputs": [
    {
     "data": {
      "text/plain": "4"
     },
     "execution_count": 126,
     "metadata": {},
     "output_type": "execute_result"
    }
   ],
   "source": [
    "x2 = lambda x:x*x\n",
    "x2(2)"
   ]
  },
  {
   "cell_type": "code",
   "execution_count": 127,
   "metadata": {},
   "outputs": [
    {
     "name": "stdout",
     "output_type": "stream",
     "text": "[1, 3, 5, 7, 9, 11, 13, 15, 17, 19]\n[1, 3, 5, 7, 9, 11, 13, 15, 17, 19]\n"
    }
   ],
   "source": [
    "def is_odd(n):\n",
    "    return n % 2 == 1\n",
    "\n",
    "L = list(filter(is_odd, range(1, 20)))\n",
    "print(L)\n",
    "# 改造\n",
    "L2 = list(filter(lambda n:n%2==1, range(1, 20)))\n",
    "print(L2)\n",
    "\n"
   ]
  },
  {
   "cell_type": "markdown",
   "execution_count": 128,
   "metadata": {},
   "outputs": [
    {
     "ename": "SyntaxError",
     "evalue": "invalid character in identifier (<ipython-input-128-6e789b55e656>, line 2)",
     "output_type": "error",
     "traceback": [
      "\u001b[1;36m  File \u001b[1;32m\"<ipython-input-128-6e789b55e656>\"\u001b[1;36m, line \u001b[1;32m2\u001b[0m\n\u001b[1;33m    由于函数也是一个对象，而且函数对象可以被赋值给变量，所以，通过变量也能调用该函数。\u001b[0m\n\u001b[1;37m                                            ^\u001b[0m\n\u001b[1;31mSyntaxError\u001b[0m\u001b[1;31m:\u001b[0m invalid character in identifier\n"
     ]
    }
   ],
   "source": [
    "## 装饰器\n",
    "由于函数也是一个对象，而且函数对象可以被赋值给变量，所以，通过变量也能调用该函数。"
   ]
  },
  {
   "cell_type": "code",
   "execution_count": 0,
   "metadata": {},
   "outputs": [],
   "source": [
    "\n",
    "def now():\n",
    "    print(\"hello\")\n",
    "\n",
    "# print(now.__call__)\n",
    "# print(now.__name__)\n",
    "def log():\n",
    "    def wrapper(*args,**kw):\n",
    "        print('call &s():' % func.__name__)\n",
    "        return func(*args,**kw)\n",
    "    return wrapper"
   ]
  },
  {
   "cell_type": "code",
   "execution_count": 5,
   "metadata": {},
   "outputs": [
    {
     "name": "stdout",
     "output_type": "stream",
     "text": "tensorflow\n['C:\\\\Users\\\\hy\\\\AppData\\\\Local\\\\Temp\\\\1e449344-5f4c-42f0-b89f-506537d5018a', 'D:\\\\ProgramData\\\\Miniconda3\\\\python37.zip', 'D:\\\\ProgramData\\\\Miniconda3\\\\DLLs', 'D:\\\\ProgramData\\\\Miniconda3\\\\lib', 'D:\\\\ProgramData\\\\Miniconda3', '', 'D:\\\\ProgramData\\\\Miniconda3\\\\lib\\\\site-packages', 'D:\\\\ProgramData\\\\Miniconda3\\\\lib\\\\site-packages\\\\win32', 'D:\\\\ProgramData\\\\Miniconda3\\\\lib\\\\site-packages\\\\win32\\\\lib', 'D:\\\\ProgramData\\\\Miniconda3\\\\lib\\\\site-packages\\\\Pythonwin', 'D:\\\\ProgramData\\\\Miniconda3\\\\lib\\\\site-packages\\\\IPython\\\\extensions', 'C:\\\\Users\\\\hy\\\\.ipython']\n"
    }
   ],
   "source": [
    "import tensorflow as tf\n",
    "import sys\n",
    "print(tf.__name__)\n",
    "print(sys.path)\n"
   ]
  },
  {
   "cell_type": "code",
   "execution_count": null,
   "metadata": {},
   "outputs": [],
   "source": []
  }
 ]
}