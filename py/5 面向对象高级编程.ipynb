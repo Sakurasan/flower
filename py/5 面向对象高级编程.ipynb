{
 "nbformat": 4,
 "nbformat_minor": 2,
 "metadata": {
  "language_info": {
   "name": "python",
   "codemirror_mode": {
    "name": "ipython",
    "version": 3
   }
  },
  "orig_nbformat": 2,
  "file_extension": ".py",
  "mimetype": "text/x-python",
  "name": "python",
  "npconvert_exporter": "python",
  "pygments_lexer": "ipython3",
  "version": 3
 },
 "cells": [
  {
   "cell_type": "markdown",
   "execution_count": null,
   "metadata": {},
   "outputs": [],
   "source": [
    "数据封装、继承和多态只是面向对象程序设计中最基础的3个概念。在Python中，面向对象还有很多高级特性，允许我们写出非常强大的功能。\n",
    "\n",
    "我们会讨论多重继承、定制类、元类等概念"
   ]
  },
  {
   "cell_type": "markdown",
   "execution_count": null,
   "metadata": {},
   "outputs": [],
   "source": [
    "### 使用__slots__\n",
    "Python允许在定义class的时候，定义一个特殊的__slots__变量，来限制该class实例能添加的属性"
   ]
  },
  {
   "cell_type": "code",
   "execution_count": 1,
   "metadata": {},
   "outputs": [],
   "source": [
    "class Student(object):\n",
    "    __slots__ = ('name', 'age') # 用tuple定义允许绑定的属性名称"
   ]
  },
  {
   "cell_type": "markdown",
   "execution_count": null,
   "metadata": {},
   "outputs": [],
   "source": [
    "给一个实例绑定的方法，对另一个实例是不起作用：\n",
    "```\n",
    ">>> from types import MethodType\n",
    ">>> s.set_age = MethodType(set_age, s) # 给实例绑定一个方法\n",
    ">>> s.set_age(25) # 调用实例方法\n",
    ">>> s.age # 测试结果\n",
    "```\n",
    "---\n",
    "给class绑定方法后，所有实例均可调用:\n",
    "```\n",
    ">>> def set_score(self, score):\n",
    "...     self.score = score\n",
    "...\n",
    ">>> Student.set_score = set_score\n",
    "```\n",
    "通常情况下，上面的set_score方法可以直接定义在class中，但动态绑定允许我们在程序运行的过程中动态给class加上功能，这在静态语言中很难实现。\n"
   ]
  },
  {
   "cell_type": "code",
   "execution_count": null,
   "metadata": {},
   "outputs": [],
   "source": []
  }
 ]
}