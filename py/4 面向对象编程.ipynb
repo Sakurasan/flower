{
 "nbformat": 4,
 "nbformat_minor": 2,
 "metadata": {
  "language_info": {
   "name": "python",
   "codemirror_mode": {
    "name": "ipython",
    "version": 3
   }
  },
  "orig_nbformat": 2,
  "file_extension": ".py",
  "mimetype": "text/x-python",
  "name": "python",
  "npconvert_exporter": "python",
  "pygments_lexer": "ipython3",
  "version": 3
 },
 "cells": [
  {
   "cell_type": "markdown",
   "execution_count": null,
   "metadata": {},
   "outputs": [],
   "source": [
    "## 面向对象编程"
   ]
  },
  {
   "cell_type": "markdown",
   "execution_count": 14,
   "metadata": {},
   "outputs": [],
   "source": [
    "## 类和实例"
   ]
  },
  {
   "cell_type": "code",
   "execution_count": null,
   "metadata": {},
   "outputs": [],
   "source": []
  },
  {
   "cell_type": "code",
   "execution_count": null,
   "metadata": {},
   "outputs": [],
   "source": []
  },
  {
   "cell_type": "markdown",
   "execution_count": null,
   "metadata": {},
   "outputs": [],
   "source": [
    "### 小结\n",
    "类是创建实例的模板，而实例则是一个一个具体的对象，各个实例拥有的数据都互相独立，互不影响；\n",
    "\n",
    "方法就是与实例绑定的函数，和普通函数不同，方法可以直接访问实例的数据；\n",
    "\n",
    "通过在实例上调用方法，我们就直接操作了对象内部的数据，但无需知道方法内部的实现细节。\n",
    "\n",
    "和静态语言不同，Python允许对实例变量绑定任何数据，也就是说，对于两个实例变量，虽然它们都是同一个类的不同实例，但拥有的变量名称都可能不同："
   ]
  },
  {
   "cell_type": "markdown",
   "execution_count": 13,
   "metadata": {},
   "outputs": [],
   "source": [
    "## 访问权限\n",
    "把属性的名称前加上 **两个** 下划线__，在Python中，实例的变量名如果以__开头，就变成了一个私有变量（private），只有内部可以访问"
   ]
  },
  {
   "cell_type": "code",
   "execution_count": 20,
   "metadata": {},
   "outputs": [],
   "source": [
    "class Flower(object):\n",
    "    def __init__(self,name='sakura',color='write'):\n",
    "        self.__name = name\n",
    "        self.__color = color\n",
    "    def getname(self):\n",
    "        return self.__name\n",
    "    def getcolor(self):\n",
    "        return self.__color\n",
    "    def fprint(self):\n",
    "        print('%s %s' % (self.__color,self.__name))\n",
    "sakura=Flower(color='black')\n",
    "sakura.__color = 'pink'\n",
    "sakura.fprint()\n"
   ]
  },
  {
   "cell_type": "markdown",
   "execution_count": 21,
   "metadata": {},
   "outputs": [],
   "source": [
    "类似__xxx__的，也就是以双下划线开头，并且以双下划线结尾的，是特殊变量，特殊变量是可以直接访问的，不是private变量\n",
    "\n",
    "双下划线开头的实例变量是不是一定不能从外部访问呢？其实也不是。不能直接访问__name是因为Python解释器对外把__name变量改成了_Flower__name，所以，仍然可以通过_Flower__name来访问__name"
   ]
  },
  {
   "cell_type": "code",
   "execution_count": 23,
   "metadata": {},
   "outputs": [],
   "source": [
    "sakura._Flower__color = 'pink'\n",
    "sakura.fprint()"
   ]
  },
  {
   "cell_type": "markdown",
   "execution_count": null,
   "metadata": {},
   "outputs": [],
   "source": [
    "## 继承和多态\n",
    "在OOP程序设计中，当我们定义一个class的时候，可以从某个现有的class继承，新的class称为子类（Subclass），而被继承的class称为基类、父类或超类（Base class、Super class）。"
   ]
  },
  {
   "cell_type": "code",
   "execution_count": 38,
   "metadata": {},
   "outputs": [],
   "source": [
    "class hua(Flower):\n",
    "    def play(self):\n",
    "        print('大鱼海棠')\n",
    "        print('big fish & %s' % (self._Flower__name))\n",
    "        # print('big fish & %s' % (self.__name)) #不能直接调用父类的 私有变量\n",
    "    # def fprint(self):\n",
    "    #     print('秒速5厘米')\n",
    "    #     print('big fish & %s' % (self._Flower__name))\n",
    "    pass\n",
    "# begonia = hua(name='begonia')\n",
    "begonia = hua()\n",
    "begonia.fprint()\n",
    "begonia._Flower__name = 'begonia'\n",
    "\n",
    "begonia.fprint()\n",
    "begonia.play()"
   ]
  },
  {
   "cell_type": "markdown",
   "execution_count": 37,
   "metadata": {},
   "outputs": [],
   "source": [
    "当子类和父类都存在相同的fprint()方法时，我们说，子类的fprint()覆盖了父类的fprint()，在代码运行的时候，总是会调用子类的fprint()。这样，我们就获得了继承的另一个好处：多态。"
   ]
  },
  {
   "cell_type": "markdown",
   "execution_count": null,
   "metadata": {},
   "outputs": [],
   "source": [
    "动态语言的“鸭子类型” (dack typing)\n",
    "\n",
    "Python的“file-like object“就是一种鸭子类型。对真正的文件对象，它有一个read()方法，返回其内容。但是，许多对象，只要有read()方法，都被视为“file-like object“。许多函数接收的参数就是“file-like object“，你不一定要传入真正的文件对象，完全可以传入任何实现了read()方法的对象。"
   ]
  },
  {
   "cell_type": "code",
   "execution_count": null,
   "metadata": {},
   "outputs": [],
   "source": []
  }
 ]
}